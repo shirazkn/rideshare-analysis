{
 "cells": [
  {
   "cell_type": "code",
   "execution_count": 1,
   "metadata": {},
   "outputs": [],
   "source": [
    "import pandas as pd\n",
    "from classes import *\n",
    "from pre_analysis import *\n",
    "\n",
    "import matplotlib.pyplot as plt\n",
    "%matplotlib inline\n",
    "plt.rcParams['figure.figsize'] = [15, 15]\n",
    "plt.rcParams['figure.dpi'] = 150"
   ]
  },
  {
   "cell_type": "code",
   "execution_count": 2,
   "metadata": {},
   "outputs": [],
   "source": [
    "# Loading the dataset\n",
    "data_file = \"transportation_network_providers.csv\"\n",
    "n_rows = 500\n",
    "cdata = pd.read_csv(data_file, nrows=n_rows, index_col=0)\n",
    "\n",
    "# Choosing variables to analyze\n",
    "col_names = {'Trip Seconds': \"seconds\", 'Trip Miles': \"miles\", \n",
    "             'Tip': \"tip\", 'Trip Total': \"total\"}\n",
    "variables = {name: Variable(col, name) \n",
    "        for col, name in col_names.items()}"
   ]
  },
  {
   "cell_type": "code",
   "execution_count": 3,
   "metadata": {},
   "outputs": [],
   "source": [
    "# Checking for duplicate entries\n",
    "assert cdata.append(cdata).shape[0] == 2 * cdata.shape[0]"
   ]
  },
  {
   "cell_type": "code",
   "execution_count": 12,
   "metadata": {},
   "outputs": [
    {
     "data": {
      "text/plain": [
       "{'Trip Seconds': 0, 'Trip Miles': 0, 'Tip': 0, 'Trip Total': 0}"
      ]
     },
     "execution_count": 12,
     "metadata": {},
     "output_type": "execute_result"
    }
   ],
   "source": [
    "# Checking for number of Null entries in rows\n",
    "{c: cdata.isnull().sum()[c] for c in col_names.keys()}"
   ]
  },
  {
   "cell_type": "code",
   "execution_count": 13,
   "metadata": {},
   "outputs": [
    {
     "data": {
      "image/png": "[encoded data removed]",
      "text/plain": [
       "<Figure size 432x288 with 16 Axes>"
      ]
     },
     "metadata": {
      "needs_background": "light"
     },
     "output_type": "display_data"
    }
   ],
   "source": [
    "# Visualize pairwise scatter-plots\n",
    "scatter_grid(cdata, variables)"
   ]
  },
  {
   "cell_type": "code",
   "execution_count": 14,
   "metadata": {},
   "outputs": [
    {
     "data": {
      "text/html": [
       "<div>\n",
       "<style scoped>\n",
       "    .dataframe tbody tr th:only-of-type {\n",
       "        vertical-align: middle;\n",
       "    }\n",
       "\n",
       "    .dataframe tbody tr th {\n",
       "        vertical-align: top;\n",
       "    }\n",
       "\n",
       "    .dataframe thead th {\n",
       "        text-align: right;\n",
       "    }\n",
       "</style>\n",
       "<table border=\"1\" class=\"dataframe\">\n",
       "  <thead>\n",
       "    <tr style=\"text-align: right;\">\n",
       "      <th></th>\n",
       "      <th>Trip Seconds</th>\n",
       "      <th>Trip Miles</th>\n",
       "      <th>Tip</th>\n",
       "      <th>Trip Total</th>\n",
       "    </tr>\n",
       "  </thead>\n",
       "  <tbody>\n",
       "    <tr>\n",
       "      <th>Trip Seconds</th>\n",
       "      <td>1.000000</td>\n",
       "      <td>0.834853</td>\n",
       "      <td>0.264629</td>\n",
       "      <td>0.833014</td>\n",
       "    </tr>\n",
       "    <tr>\n",
       "      <th>Trip Miles</th>\n",
       "      <td>0.834853</td>\n",
       "      <td>1.000000</td>\n",
       "      <td>0.241811</td>\n",
       "      <td>0.885580</td>\n",
       "    </tr>\n",
       "    <tr>\n",
       "      <th>Tip</th>\n",
       "      <td>0.264629</td>\n",
       "      <td>0.241811</td>\n",
       "      <td>1.000000</td>\n",
       "      <td>0.461244</td>\n",
       "    </tr>\n",
       "    <tr>\n",
       "      <th>Trip Total</th>\n",
       "      <td>0.833014</td>\n",
       "      <td>0.885580</td>\n",
       "      <td>0.461244</td>\n",
       "      <td>1.000000</td>\n",
       "    </tr>\n",
       "  </tbody>\n",
       "</table>\n",
       "</div>"
      ],
      "text/plain": [
       "              Trip Seconds  Trip Miles       Tip  Trip Total\n",
       "Trip Seconds      1.000000    0.834853  0.264629    0.833014\n",
       "Trip Miles        0.834853    1.000000  0.241811    0.885580\n",
       "Tip               0.264629    0.241811  1.000000    0.461244\n",
       "Trip Total        0.833014    0.885580  0.461244    1.000000"
      ]
     },
     "execution_count": 14,
     "metadata": {},
     "output_type": "execute_result"
    }
   ],
   "source": [
    "# Correlation between variables\n",
    "correlation_matrix(cdata, col_names)"
   ]
  },
  {
   "cell_type": "code",
   "execution_count": 11,
   "metadata": {},
   "outputs": [
    {
     "data": {
      "text/html": [
       "<div>\n",
       "<style scoped>\n",
       "    .dataframe tbody tr th:only-of-type {\n",
       "        vertical-align: middle;\n",
       "    }\n",
       "\n",
       "    .dataframe tbody tr th {\n",
       "        vertical-align: top;\n",
       "    }\n",
       "\n",
       "    .dataframe thead th {\n",
       "        text-align: right;\n",
       "    }\n",
       "</style>\n",
       "<table border=\"1\" class=\"dataframe\">\n",
       "  <thead>\n",
       "    <tr style=\"text-align: right;\">\n",
       "      <th></th>\n",
       "      <th>Trip Start Timestamp</th>\n",
       "      <th>Trip End Timestamp</th>\n",
       "      <th>Trip Seconds</th>\n",
       "      <th>Trip Miles</th>\n",
       "      <th>Pickup Census Tract</th>\n",
       "      <th>Dropoff Census Tract</th>\n",
       "      <th>Pickup Community Area</th>\n",
       "      <th>Dropoff Community Area</th>\n",
       "      <th>Fare</th>\n",
       "      <th>Tip</th>\n",
       "      <th>...</th>\n",
       "      <th>Trip Total</th>\n",
       "      <th>Shared Trip Authorized</th>\n",
       "      <th>Trips Pooled</th>\n",
       "      <th>Pickup Centroid Latitude</th>\n",
       "      <th>Pickup Centroid Longitude</th>\n",
       "      <th>Pickup Centroid Location</th>\n",
       "      <th>Dropoff Centroid Latitude</th>\n",
       "      <th>Dropoff Centroid Longitude</th>\n",
       "      <th>Dropoff Centroid Location</th>\n",
       "      <th>Philanthrophic</th>\n",
       "    </tr>\n",
       "    <tr>\n",
       "      <th>Trip ID</th>\n",
       "      <th></th>\n",
       "      <th></th>\n",
       "      <th></th>\n",
       "      <th></th>\n",
       "      <th></th>\n",
       "      <th></th>\n",
       "      <th></th>\n",
       "      <th></th>\n",
       "      <th></th>\n",
       "      <th></th>\n",
       "      <th></th>\n",
       "      <th></th>\n",
       "      <th></th>\n",
       "      <th></th>\n",
       "      <th></th>\n",
       "      <th></th>\n",
       "      <th></th>\n",
       "      <th></th>\n",
       "      <th></th>\n",
       "      <th></th>\n",
       "      <th></th>\n",
       "    </tr>\n",
       "  </thead>\n",
       "  <tbody>\n",
       "    <tr>\n",
       "      <th>d1b85391b5b43d23968686fcda13407a38f72a38</th>\n",
       "      <td>07/14/2019 03:45:00 PM</td>\n",
       "      <td>07/14/2019 04:00:00 PM</td>\n",
       "      <td>1116</td>\n",
       "      <td>2.4</td>\n",
       "      <td>1.703124e+10</td>\n",
       "      <td>1.703107e+10</td>\n",
       "      <td>24.0</td>\n",
       "      <td>7.0</td>\n",
       "      <td>7.5</td>\n",
       "      <td>0</td>\n",
       "      <td>...</td>\n",
       "      <td>10.05</td>\n",
       "      <td>False</td>\n",
       "      <td>1</td>\n",
       "      <td>41.906026</td>\n",
       "      <td>-87.675312</td>\n",
       "      <td>POINT (-87.6753116216 41.906025969)</td>\n",
       "      <td>41.914616</td>\n",
       "      <td>-87.631717</td>\n",
       "      <td>POINT (-87.6317173661 41.9146162864)</td>\n",
       "      <td>No</td>\n",
       "    </tr>\n",
       "    <tr>\n",
       "      <th>d1b854cf4a48b6765c54cc05dde5840c38928e45</th>\n",
       "      <td>08/14/2019 09:45:00 AM</td>\n",
       "      <td>08/14/2019 10:00:00 AM</td>\n",
       "      <td>861</td>\n",
       "      <td>3.4</td>\n",
       "      <td>1.703108e+10</td>\n",
       "      <td>1.703133e+10</td>\n",
       "      <td>8.0</td>\n",
       "      <td>33.0</td>\n",
       "      <td>7.5</td>\n",
       "      <td>3</td>\n",
       "      <td>...</td>\n",
       "      <td>18.05</td>\n",
       "      <td>False</td>\n",
       "      <td>1</td>\n",
       "      <td>41.895033</td>\n",
       "      <td>-87.619711</td>\n",
       "      <td>POINT (-87.6197106717 41.8950334495)</td>\n",
       "      <td>41.859350</td>\n",
       "      <td>-87.617358</td>\n",
       "      <td>POINT (-87.6173580061 41.859349715)</td>\n",
       "      <td>Yes</td>\n",
       "    </tr>\n",
       "    <tr>\n",
       "      <th>d1b8565c3256b3f5324eb0f7a7d3e96724774f44</th>\n",
       "      <td>07/30/2019 10:30:00 PM</td>\n",
       "      <td>07/30/2019 10:30:00 PM</td>\n",
       "      <td>666</td>\n",
       "      <td>3.5</td>\n",
       "      <td>1.703184e+10</td>\n",
       "      <td>1.703124e+10</td>\n",
       "      <td>32.0</td>\n",
       "      <td>24.0</td>\n",
       "      <td>7.5</td>\n",
       "      <td>0</td>\n",
       "      <td>...</td>\n",
       "      <td>10.05</td>\n",
       "      <td>False</td>\n",
       "      <td>1</td>\n",
       "      <td>41.871016</td>\n",
       "      <td>-87.631407</td>\n",
       "      <td>POINT (-87.6314065252 41.8710158803)</td>\n",
       "      <td>41.892433</td>\n",
       "      <td>-87.669624</td>\n",
       "      <td>POINT (-87.6696239301 41.8924331563)</td>\n",
       "      <td>No</td>\n",
       "    </tr>\n",
       "  </tbody>\n",
       "</table>\n",
       "<p>3 rows × 21 columns</p>\n",
       "</div>"
      ],
      "text/plain": [
       "                                            Trip Start Timestamp  \\\n",
       "Trip ID                                                            \n",
       "d1b85391b5b43d23968686fcda13407a38f72a38  07/14/2019 03:45:00 PM   \n",
       "d1b854cf4a48b6765c54cc05dde5840c38928e45  08/14/2019 09:45:00 AM   \n",
       "d1b8565c3256b3f5324eb0f7a7d3e96724774f44  07/30/2019 10:30:00 PM   \n",
       "\n",
       "                                              Trip End Timestamp  \\\n",
       "Trip ID                                                            \n",
       "d1b85391b5b43d23968686fcda13407a38f72a38  07/14/2019 04:00:00 PM   \n",
       "d1b854cf4a48b6765c54cc05dde5840c38928e45  08/14/2019 10:00:00 AM   \n",
       "d1b8565c3256b3f5324eb0f7a7d3e96724774f44  07/30/2019 10:30:00 PM   \n",
       "\n",
       "                                          Trip Seconds  Trip Miles  \\\n",
       "Trip ID                                                              \n",
       "d1b85391b5b43d23968686fcda13407a38f72a38          1116         2.4   \n",
       "d1b854cf4a48b6765c54cc05dde5840c38928e45           861         3.4   \n",
       "d1b8565c3256b3f5324eb0f7a7d3e96724774f44           666         3.5   \n",
       "\n",
       "                                          Pickup Census Tract  \\\n",
       "Trip ID                                                         \n",
       "d1b85391b5b43d23968686fcda13407a38f72a38         1.703124e+10   \n",
       "d1b854cf4a48b6765c54cc05dde5840c38928e45         1.703108e+10   \n",
       "d1b8565c3256b3f5324eb0f7a7d3e96724774f44         1.703184e+10   \n",
       "\n",
       "                                          Dropoff Census Tract  \\\n",
       "Trip ID                                                          \n",
       "d1b85391b5b43d23968686fcda13407a38f72a38          1.703107e+10   \n",
       "d1b854cf4a48b6765c54cc05dde5840c38928e45          1.703133e+10   \n",
       "d1b8565c3256b3f5324eb0f7a7d3e96724774f44          1.703124e+10   \n",
       "\n",
       "                                          Pickup Community Area  \\\n",
       "Trip ID                                                           \n",
       "d1b85391b5b43d23968686fcda13407a38f72a38                   24.0   \n",
       "d1b854cf4a48b6765c54cc05dde5840c38928e45                    8.0   \n",
       "d1b8565c3256b3f5324eb0f7a7d3e96724774f44                   32.0   \n",
       "\n",
       "                                          Dropoff Community Area  Fare  Tip  \\\n",
       "Trip ID                                                                       \n",
       "d1b85391b5b43d23968686fcda13407a38f72a38                     7.0   7.5    0   \n",
       "d1b854cf4a48b6765c54cc05dde5840c38928e45                    33.0   7.5    3   \n",
       "d1b8565c3256b3f5324eb0f7a7d3e96724774f44                    24.0   7.5    0   \n",
       "\n",
       "                                          ...  Trip Total  \\\n",
       "Trip ID                                   ...               \n",
       "d1b85391b5b43d23968686fcda13407a38f72a38  ...       10.05   \n",
       "d1b854cf4a48b6765c54cc05dde5840c38928e45  ...       18.05   \n",
       "d1b8565c3256b3f5324eb0f7a7d3e96724774f44  ...       10.05   \n",
       "\n",
       "                                          Shared Trip Authorized  \\\n",
       "Trip ID                                                            \n",
       "d1b85391b5b43d23968686fcda13407a38f72a38                   False   \n",
       "d1b854cf4a48b6765c54cc05dde5840c38928e45                   False   \n",
       "d1b8565c3256b3f5324eb0f7a7d3e96724774f44                   False   \n",
       "\n",
       "                                          Trips Pooled  \\\n",
       "Trip ID                                                  \n",
       "d1b85391b5b43d23968686fcda13407a38f72a38             1   \n",
       "d1b854cf4a48b6765c54cc05dde5840c38928e45             1   \n",
       "d1b8565c3256b3f5324eb0f7a7d3e96724774f44             1   \n",
       "\n",
       "                                          Pickup Centroid Latitude  \\\n",
       "Trip ID                                                              \n",
       "d1b85391b5b43d23968686fcda13407a38f72a38                 41.906026   \n",
       "d1b854cf4a48b6765c54cc05dde5840c38928e45                 41.895033   \n",
       "d1b8565c3256b3f5324eb0f7a7d3e96724774f44                 41.871016   \n",
       "\n",
       "                                          Pickup Centroid Longitude  \\\n",
       "Trip ID                                                               \n",
       "d1b85391b5b43d23968686fcda13407a38f72a38                 -87.675312   \n",
       "d1b854cf4a48b6765c54cc05dde5840c38928e45                 -87.619711   \n",
       "d1b8565c3256b3f5324eb0f7a7d3e96724774f44                 -87.631407   \n",
       "\n",
       "                                                      Pickup Centroid Location  \\\n",
       "Trip ID                                                                          \n",
       "d1b85391b5b43d23968686fcda13407a38f72a38   POINT (-87.6753116216 41.906025969)   \n",
       "d1b854cf4a48b6765c54cc05dde5840c38928e45  POINT (-87.6197106717 41.8950334495)   \n",
       "d1b8565c3256b3f5324eb0f7a7d3e96724774f44  POINT (-87.6314065252 41.8710158803)   \n",
       "\n",
       "                                         Dropoff Centroid Latitude  \\\n",
       "Trip ID                                                              \n",
       "d1b85391b5b43d23968686fcda13407a38f72a38                 41.914616   \n",
       "d1b854cf4a48b6765c54cc05dde5840c38928e45                 41.859350   \n",
       "d1b8565c3256b3f5324eb0f7a7d3e96724774f44                 41.892433   \n",
       "\n",
       "                                          Dropoff Centroid Longitude  \\\n",
       "Trip ID                                                                \n",
       "d1b85391b5b43d23968686fcda13407a38f72a38                  -87.631717   \n",
       "d1b854cf4a48b6765c54cc05dde5840c38928e45                  -87.617358   \n",
       "d1b8565c3256b3f5324eb0f7a7d3e96724774f44                  -87.669624   \n",
       "\n",
       "                                                     Dropoff Centroid Location  \\\n",
       "Trip ID                                                                          \n",
       "d1b85391b5b43d23968686fcda13407a38f72a38  POINT (-87.6317173661 41.9146162864)   \n",
       "d1b854cf4a48b6765c54cc05dde5840c38928e45   POINT (-87.6173580061 41.859349715)   \n",
       "d1b8565c3256b3f5324eb0f7a7d3e96724774f44  POINT (-87.6696239301 41.8924331563)   \n",
       "\n",
       "                                         Philanthrophic  \n",
       "Trip ID                                                  \n",
       "d1b85391b5b43d23968686fcda13407a38f72a38             No  \n",
       "d1b854cf4a48b6765c54cc05dde5840c38928e45            Yes  \n",
       "d1b8565c3256b3f5324eb0f7a7d3e96724774f44             No  \n",
       "\n",
       "[3 rows x 21 columns]"
      ]
     },
     "execution_count": 11,
     "metadata": {},
     "output_type": "execute_result"
    }
   ],
   "source": [
    "cdata.tail(3)"
   ]
  },
  {
   "cell_type": "code",
   "execution_count": 110,
   "metadata": {},
   "outputs": [
    {
     "data": {
      "text/plain": [
       "(63, 20)"
      ]
     },
     "execution_count": 110,
     "metadata": {},
     "output_type": "execute_result"
    }
   ],
   "source": []
  },
  {
   "cell_type": "code",
   "execution_count": 9,
   "metadata": {},
   "outputs": [
    {
     "data": {
      "text/plain": [
       "<matplotlib.axes._subplots.AxesSubplot at 0x12292d4c0>"
      ]
     },
     "execution_count": 9,
     "metadata": {},
     "output_type": "execute_result"
    },
    {
     "data": {
      "image/png": "[encoded data removed]",
      "text/plain": [
       "<Figure size 432x288 with 1 Axes>"
      ]
     },
     "metadata": {
      "needs_background": "light"
     },
     "output_type": "display_data"
    }
   ],
   "source": [
    "# Some 'practice' code\n",
    "\n",
    "# Percentage of people who didn't tip\n",
    "cdata[cdata['Tip'] == 0.0].shape\n",
    "\n",
    "# People who traveled for over an hour or over 10 miles, but didn't tip\n",
    "long_travel = (cdata['Trip Seconds'] >= 3600) | (cdata[\"Trip Miles\"] >= 10)\n",
    "no_tip = cdata[\"Tip\"] == 0.0\n",
    "subset = cdata[ (long_travel) & (no_tip)]\n",
    "subset.shape\n",
    "\n",
    "# --------------\n",
    "\n",
    "def tip_fn(tip):\n",
    "    if tip == 0.0:\n",
    "        return \"No\"\n",
    "    else:\n",
    "        return \"Yes\"\n",
    "    \n",
    "cdata[\"Philanthrophic\"] = cdata[\"Tip\"].apply(tip_fn)\n",
    "cdata.boxplot(column='Trip Miles',\n",
    "             by=\"Philanthrophic\")"
   ]
  },
  {
   "cell_type": "code",
   "execution_count": null,
   "metadata": {},
   "outputs": [],
   "source": []
  },
  {
   "cell_type": "code",
   "execution_count": null,
   "metadata": {},
   "outputs": [],
   "source": []
  },
  {
   "cell_type": "code",
   "execution_count": null,
   "metadata": {},
   "outputs": [],
   "source": []
  }
 ],
 "metadata": {
  "kernelspec": {
   "display_name": "Python 3",
   "language": "python",
   "name": "python3"
  },
  "language_info": {
   "codemirror_mode": {
    "name": "ipython",
    "version": 3
   },
   "file_extension": ".py",
   "mimetype": "text/x-python",
   "name": "python",
   "nbconvert_exporter": "python",
   "pygments_lexer": "ipython3",
   "version": "3.8.0"
  }
 },
 "nbformat": 4,
 "nbformat_minor": 2
}
